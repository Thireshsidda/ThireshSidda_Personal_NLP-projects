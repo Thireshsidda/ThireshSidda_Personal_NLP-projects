{
  "nbformat": 4,
  "nbformat_minor": 0,
  "metadata": {
    "colab": {
      "name": "CorrectSpelling.ipynb",
      "provenance": []
    },
    "kernelspec": {
      "name": "python3",
      "display_name": "Python 3"
    },
    "language_info": {
      "name": "python"
    }
  },
  "cells": [
    {
      "cell_type": "markdown",
      "metadata": {
        "id": "qtL5BYT1dOoB"
      },
      "source": [
        "#Correct spellings with python"
      ]
    },
    {
      "cell_type": "code",
      "metadata": {
        "id": "nWKSFMkQTxMZ"
      },
      "source": [
        "#TextBlob is a python library and offers a simple API to access its methods and perform basic NLP tasks. \n",
        "#A good thing about TextBlob is that they are just like python strings. \n",
        "#So, you can transform and play with it same like we did in python."
      ],
      "execution_count": null,
      "outputs": []
    },
    {
      "cell_type": "code",
      "metadata": {
        "id": "-Q-SdKGvUH62"
      },
      "source": [
        "#Importing textblob library\n",
        "from textblob import TextBlob"
      ],
      "execution_count": null,
      "outputs": []
    },
    {
      "cell_type": "code",
      "metadata": {
        "id": "8i6S4EbWULBG"
      },
      "source": [
        "#Defining a function to return correct spelling for words.\n",
        "def correct_spell(words):    \n",
        "    correct_words = []\n",
        "    for i in words:\n",
        "        #converting the wrong_word in to correct spell word using textblob module\n",
        "        correct_words.append(TextBlob(i))\n",
        "    #printing the wrong and the corrected words\n",
        "    print(\"Wrong words :\", words)\n",
        "    print(\"Corrected Words are :\")\n",
        "    corrected_words=[]\n",
        "    for i in correct_words:\n",
        "        corrected_words.append(i.correct())\n",
        "    return corrected_words"
      ],
      "execution_count": null,
      "outputs": []
    },
    {
      "cell_type": "code",
      "metadata": {
        "colab": {
          "base_uri": "https://localhost:8080/"
        },
        "id": "5XzlGu7gVB25",
        "outputId": "06d7606a-9cc6-4dca-ee54-e6c284306a55"
      },
      "source": [
        "#Giving our input in variable words\n",
        "words = [\"learnig\",\"learnre\",\"leatn\"]\n",
        "#The function correct_spell returns the words with correct spellings\n",
        "correct_words=correct_spell(words)\n",
        "for i in correct_words:\n",
        "  print(i,end=\" \")"
      ],
      "execution_count": null,
      "outputs": [
        {
          "output_type": "stream",
          "text": [
            "Wrong words : ['learnig', 'learnre', 'leatn']\n",
            "Corrected Words are :\n",
            "learning learner learn "
          ],
          "name": "stdout"
        }
      ]
    }
  ]
}