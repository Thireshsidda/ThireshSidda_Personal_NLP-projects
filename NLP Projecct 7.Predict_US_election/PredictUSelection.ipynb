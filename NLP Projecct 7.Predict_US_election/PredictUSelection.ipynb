{
  "nbformat": 4,
  "nbformat_minor": 0,
  "metadata": {
    "colab": {
      "name": "PredictUSelection.ipynb",
      "provenance": []
    },
    "kernelspec": {
      "name": "python3",
      "display_name": "Python 3"
    },
    "language_info": {
      "name": "python"
    }
  },
  "cells": [
    {
      "cell_type": "markdown",
      "metadata": {
        "id": "HfWOpMLCaL75"
      },
      "source": [
        "\n",
        "## Predict US Elections"
      ]
    },
    {
      "cell_type": "code",
      "metadata": {
        "id": "2QibyB7rZTK0"
      },
      "source": [
        "#Importing the libraries\n",
        "import pandas as pd\n",
        "import numpy as np\n",
        "import seaborn as sns\n",
        "import warnings\n",
        "warnings.simplefilter(\"ignore\")"
      ],
      "execution_count": null,
      "outputs": []
    },
    {
      "cell_type": "code",
      "metadata": {
        "colab": {
          "base_uri": "https://localhost:8080/",
          "height": 204
        },
        "id": "Oqbd8FWZa6wW",
        "outputId": "79d0ae18-c68e-4a3e-e34e-fffec6192614"
      },
      "source": [
        "#Reading the csv file for Trump related tweets\n",
        "trump = pd.read_csv(\"Trumpall2.csv\")\n",
        "trump.head()"
      ],
      "execution_count": null,
      "outputs": [
        {
          "output_type": "execute_result",
          "data": {
            "text/html": [
              "<div>\n",
              "<style scoped>\n",
              "    .dataframe tbody tr th:only-of-type {\n",
              "        vertical-align: middle;\n",
              "    }\n",
              "\n",
              "    .dataframe tbody tr th {\n",
              "        vertical-align: top;\n",
              "    }\n",
              "\n",
              "    .dataframe thead th {\n",
              "        text-align: right;\n",
              "    }\n",
              "</style>\n",
              "<table border=\"1\" class=\"dataframe\">\n",
              "  <thead>\n",
              "    <tr style=\"text-align: right;\">\n",
              "      <th></th>\n",
              "      <th>user</th>\n",
              "      <th>text</th>\n",
              "    </tr>\n",
              "  </thead>\n",
              "  <tbody>\n",
              "    <tr>\n",
              "      <th>0</th>\n",
              "      <td>manny_rosen</td>\n",
              "      <td>@sanofi please tell us how many shares the Cr...</td>\n",
              "    </tr>\n",
              "    <tr>\n",
              "      <th>1</th>\n",
              "      <td>osi_abdul</td>\n",
              "      <td>https://t.co/atM98CpqF7  Like, comment, RT #P...</td>\n",
              "    </tr>\n",
              "    <tr>\n",
              "      <th>2</th>\n",
              "      <td>Patsyrw</td>\n",
              "      <td>Your AG Barr is as useless &amp;amp; corrupt as y...</td>\n",
              "    </tr>\n",
              "    <tr>\n",
              "      <th>3</th>\n",
              "      <td>seyedebrahimi_m</td>\n",
              "      <td>Mr. Trump! Wake Up!  Most of the comments bel...</td>\n",
              "    </tr>\n",
              "    <tr>\n",
              "      <th>4</th>\n",
              "      <td>James09254677</td>\n",
              "      <td>After 4 years you think you would have figure...</td>\n",
              "    </tr>\n",
              "  </tbody>\n",
              "</table>\n",
              "</div>"
            ],
            "text/plain": [
              "              user                                               text\n",
              "0      manny_rosen   @sanofi please tell us how many shares the Cr...\n",
              "1        osi_abdul   https://t.co/atM98CpqF7  Like, comment, RT #P...\n",
              "2          Patsyrw   Your AG Barr is as useless &amp; corrupt as y...\n",
              "3  seyedebrahimi_m   Mr. Trump! Wake Up!  Most of the comments bel...\n",
              "4    James09254677   After 4 years you think you would have figure..."
            ]
          },
          "metadata": {
            "tags": []
          },
          "execution_count": 2
        }
      ]
    },
    {
      "cell_type": "code",
      "metadata": {
        "colab": {
          "base_uri": "https://localhost:8080/",
          "height": 204
        },
        "id": "qkKaH7kVbIy9",
        "outputId": "7ee47ce4-3271-4778-9f45-c3afda2afc40"
      },
      "source": [
        "#Reading the csv file for Biden related tweets\n",
        "biden= pd.read_csv(\"Bidenall2.csv\")\n",
        "biden.head()"
      ],
      "execution_count": null,
      "outputs": [
        {
          "output_type": "execute_result",
          "data": {
            "text/html": [
              "<div>\n",
              "<style scoped>\n",
              "    .dataframe tbody tr th:only-of-type {\n",
              "        vertical-align: middle;\n",
              "    }\n",
              "\n",
              "    .dataframe tbody tr th {\n",
              "        vertical-align: top;\n",
              "    }\n",
              "\n",
              "    .dataframe thead th {\n",
              "        text-align: right;\n",
              "    }\n",
              "</style>\n",
              "<table border=\"1\" class=\"dataframe\">\n",
              "  <thead>\n",
              "    <tr style=\"text-align: right;\">\n",
              "      <th></th>\n",
              "      <th>user</th>\n",
              "      <th>text</th>\n",
              "    </tr>\n",
              "  </thead>\n",
              "  <tbody>\n",
              "    <tr>\n",
              "      <th>0</th>\n",
              "      <td>MarkHodder3</td>\n",
              "      <td>@JoeBiden And we’ll find out who won in 2026...</td>\n",
              "    </tr>\n",
              "    <tr>\n",
              "      <th>1</th>\n",
              "      <td>K87327961G</td>\n",
              "      <td>@JoeBiden Your Democratic Nazi Party cannot be...</td>\n",
              "    </tr>\n",
              "    <tr>\n",
              "      <th>2</th>\n",
              "      <td>OldlaceA</td>\n",
              "      <td>@JoeBiden So did Lying Barr</td>\n",
              "    </tr>\n",
              "    <tr>\n",
              "      <th>3</th>\n",
              "      <td>penblogger</td>\n",
              "      <td>@JoeBiden It's clear you didnt compose this tw...</td>\n",
              "    </tr>\n",
              "    <tr>\n",
              "      <th>4</th>\n",
              "      <td>Aquarian0264</td>\n",
              "      <td>@JoeBiden I will vote in person thank you.</td>\n",
              "    </tr>\n",
              "  </tbody>\n",
              "</table>\n",
              "</div>"
            ],
            "text/plain": [
              "           user                                               text\n",
              "0   MarkHodder3    @JoeBiden And we’ll find out who won in 2026...\n",
              "1    K87327961G  @JoeBiden Your Democratic Nazi Party cannot be...\n",
              "2      OldlaceA                        @JoeBiden So did Lying Barr\n",
              "3    penblogger  @JoeBiden It's clear you didnt compose this tw...\n",
              "4  Aquarian0264         @JoeBiden I will vote in person thank you."
            ]
          },
          "metadata": {
            "tags": []
          },
          "execution_count": 3
        }
      ]
    },
    {
      "cell_type": "code",
      "metadata": {
        "id": "rSjcsPNrfSsu"
      },
      "source": [
        "#Importing textblob library\n",
        "from textblob import TextBlob"
      ],
      "execution_count": 1,
      "outputs": []
    },
    {
      "cell_type": "code",
      "metadata": {
        "colab": {
          "base_uri": "https://localhost:8080/"
        },
        "id": "FTbAamukbN0x",
        "outputId": "49099c40-0eb5-47f7-c907-7cd9f0bf9102"
      },
      "source": [
        "#Sentiment Analysis using Textblob for Trump\n",
        "tb1 = TextBlob(trump[\"text\"][10])\n",
        "print(\"Donald Trump :\",tb1.sentiment)"
      ],
      "execution_count": null,
      "outputs": [
        {
          "output_type": "stream",
          "text": [
            "Donald Trump : Sentiment(polarity=0.15, subjectivity=0.3125)\n"
          ],
          "name": "stdout"
        }
      ]
    },
    {
      "cell_type": "code",
      "metadata": {
        "colab": {
          "base_uri": "https://localhost:8080/"
        },
        "id": "-07H619tc-8p",
        "outputId": "2e8f19d7-7557-477d-b25e-c9e54de1ce73"
      },
      "source": [
        "#Sentiment Analysis using Textblob for Biden\n",
        "tb2 = TextBlob(biden[\"text\"][500])\n",
        "print(\"Joe Biden :\",tb2.sentiment)"
      ],
      "execution_count": null,
      "outputs": [
        {
          "output_type": "stream",
          "text": [
            "Joe Biden : Sentiment(polarity=0.6, subjectivity=0.9)\n"
          ],
          "name": "stdout"
        }
      ]
    },
    {
      "cell_type": "code",
      "metadata": {
        "id": "GBJEWD8FdK4F"
      },
      "source": [
        "#Defining the functon to return the sentiment polarity\n",
        "def findPoll(review):\n",
        "    return TextBlob(review).sentiment.polarity"
      ],
      "execution_count": null,
      "outputs": []
    },
    {
      "cell_type": "code",
      "metadata": {
        "colab": {
          "base_uri": "https://localhost:8080/"
        },
        "id": "ZfGgyEZdfIMy",
        "outputId": "45f14036-459e-48f1-9852-c50e39b3e190"
      },
      "source": [
        "#Setting the centiment polarity column in  Dataframe Trump\n",
        "trump[\"Sentiment Polarity\"] = trump[\"text\"].apply(findPoll)\n",
        "print(trump.head())"
      ],
      "execution_count": null,
      "outputs": [
        {
          "output_type": "stream",
          "text": [
            "              user  ... Sentiment Polarity\n",
            "0      manny_rosen  ...               0.05\n",
            "1        osi_abdul  ...               0.00\n",
            "2          Patsyrw  ...              -0.50\n",
            "3  seyedebrahimi_m  ...               0.50\n",
            "4    James09254677  ...               0.00\n",
            "\n",
            "[5 rows x 3 columns]\n"
          ],
          "name": "stdout"
        }
      ]
    },
    {
      "cell_type": "code",
      "metadata": {
        "colab": {
          "base_uri": "https://localhost:8080/"
        },
        "id": "mR9f3h5ufWa3",
        "outputId": "ac3247bc-c9e9-43ea-fe41-2ee62d256361"
      },
      "source": [
        "#Setting the centiment polarity column in  Dataframe Biden\n",
        "biden[\"Sentiment Polarity\"] = biden[\"text\"].apply(findPoll)\n",
        "print(biden.head())"
      ],
      "execution_count": null,
      "outputs": [
        {
          "output_type": "stream",
          "text": [
            "           user  ... Sentiment Polarity\n",
            "0   MarkHodder3  ...               0.00\n",
            "1    K87327961G  ...               0.00\n",
            "2      OldlaceA  ...               0.00\n",
            "3    penblogger  ...               0.05\n",
            "4  Aquarian0264  ...               0.00\n",
            "\n",
            "[5 rows x 3 columns]\n"
          ],
          "name": "stdout"
        }
      ]
    },
    {
      "cell_type": "code",
      "metadata": {
        "colab": {
          "base_uri": "https://localhost:8080/"
        },
        "id": "SEc-aUQGfa0T",
        "outputId": "94f4c591-0d02-4966-c2a4-630ef9a86110"
      },
      "source": [
        "#setting the expression for each data in a new column for Trump\n",
        "trump[\"Opinion Label\"] = np.where(trump[\"Sentiment Polarity\"]>0, \"positive\", \"negative\")\n",
        "trump[\"Opinion Label\"][trump[\"Sentiment Polarity\"]==0]=\"Neutral\"\n",
        "print(trump.head())"
      ],
      "execution_count": null,
      "outputs": [
        {
          "output_type": "stream",
          "text": [
            "              user  ... Opinion Label\n",
            "0      manny_rosen  ...      positive\n",
            "1        osi_abdul  ...       Neutral\n",
            "2          Patsyrw  ...      negative\n",
            "3  seyedebrahimi_m  ...      positive\n",
            "4    James09254677  ...       Neutral\n",
            "\n",
            "[5 rows x 4 columns]\n"
          ],
          "name": "stdout"
        }
      ]
    },
    {
      "cell_type": "code",
      "metadata": {
        "colab": {
          "base_uri": "https://localhost:8080/"
        },
        "id": "DHxYZJHjhSou",
        "outputId": "cf5dccbe-ce42-4a62-de13-bfac4312df7e"
      },
      "source": [
        "#setting the expression for each data in a new column for Biden\n",
        "biden[\"Opinion Label\"] = np.where(biden[\"Sentiment Polarity\"]>0, \"positive\", \"negative\")\n",
        "biden[\"Opinion Label\"][trump[\"Sentiment Polarity\"]==0]=\"Neutral\"\n",
        "print(biden.head())"
      ],
      "execution_count": null,
      "outputs": [
        {
          "output_type": "stream",
          "text": [
            "           user  ... Opinion Label\n",
            "0   MarkHodder3  ...      negative\n",
            "1    K87327961G  ...       Neutral\n",
            "2      OldlaceA  ...      negative\n",
            "3    penblogger  ...      positive\n",
            "4  Aquarian0264  ...       Neutral\n",
            "\n",
            "[5 rows x 4 columns]\n"
          ],
          "name": "stdout"
        }
      ]
    },
    {
      "cell_type": "code",
      "metadata": {
        "colab": {
          "base_uri": "https://localhost:8080/"
        },
        "id": "cuIpOrMXhTy4",
        "outputId": "14d7a1ba-a3de-4662-9921-aa3ed931b36e"
      },
      "source": [
        "#We are dropping the data with neutral tweets for Trump in reviews1\n",
        "reviews1 = trump[trump['Sentiment Polarity'] == 0.0000]\n",
        "cond1=trump['Sentiment Polarity'].isin(reviews1['Sentiment Polarity'])\n",
        "trump.drop(trump[cond1].index, inplace = True)\n",
        "print(trump.shape)"
      ],
      "execution_count": null,
      "outputs": [
        {
          "output_type": "stream",
          "text": [
            "(1324, 4)\n"
          ],
          "name": "stdout"
        }
      ]
    },
    {
      "cell_type": "code",
      "metadata": {
        "colab": {
          "base_uri": "https://localhost:8080/"
        },
        "id": "JbwNG-NFlRVb",
        "outputId": "4e9d6ca5-ce55-4beb-f014-a79a0ad57c37"
      },
      "source": [
        "#We are dropping the data with neutral tweets for Biden in reviews2\n",
        "reviews2 = biden[biden['Sentiment Polarity'] == 0.0000]\n",
        "cond2=biden['Sentiment Polarity'].isin(reviews1['Sentiment Polarity'])\n",
        "biden.drop(biden[cond2].index, inplace = True)\n",
        "print(biden.shape)"
      ],
      "execution_count": null,
      "outputs": [
        {
          "output_type": "stream",
          "text": [
            "(1031, 4)\n"
          ],
          "name": "stdout"
        }
      ]
    },
    {
      "cell_type": "code",
      "metadata": {
        "colab": {
          "base_uri": "https://localhost:8080/"
        },
        "id": "gSrTs_5dl_Kn",
        "outputId": "1f605031-fe48-4e08-916e-1db0d5781973"
      },
      "source": [
        "#Balancing both the datsets\n",
        "#For Trump dataset\n",
        "np.random.seed(10)\n",
        "remove=324\n",
        "dropIndices = np.random.choice(trump.index, remove, replace=False)\n",
        "df_trump = trump.drop(dropIndices)\n",
        "print(\"Shape of trump Subset :\",df_trump.shape)\n",
        "\n",
        "#For Biden datset\n",
        "np.random.seed(10)\n",
        "remove =31\n",
        "dropIndices = np.random.choice(biden.index, remove, replace=False)\n",
        "df_biden = biden.drop(dropIndices)\n",
        "print(\"Shape of Biden Subset :\",df_biden.shape)"
      ],
      "execution_count": null,
      "outputs": [
        {
          "output_type": "stream",
          "text": [
            "Shape of trump Subset : (1000, 4)\n",
            "Shape of Biden Subset : (1000, 4)\n"
          ],
          "name": "stdout"
        }
      ]
    },
    {
      "cell_type": "code",
      "metadata": {
        "id": "iddzBSGQm1Sr"
      },
      "source": [
        "#Analyzing the number of positive and negative sentiments in Trump Data\n",
        "count_Trump = df_trump.groupby('Opinion Label').count()\n",
        "negative_percentage1 = (count_Trump['Sentiment Polarity'][0]/1000)*10\n",
        "positive_percentage1 = (count_Trump['Sentiment Polarity'][1]/1000)*100"
      ],
      "execution_count": null,
      "outputs": []
    },
    {
      "cell_type": "code",
      "metadata": {
        "id": "3H-86D0NqkRX"
      },
      "source": [
        "#Analyzing the number of positive and negative sentiments in Biden Data\n",
        "count_Biden = df_biden.groupby('Opinion Label').count()\n",
        "negative_percentage2 = (count_Biden['Sentiment Polarity'][0]/1000)*10\n",
        "positive_percentage2 = (count_Biden['Sentiment Polarity'][1]/1000)*100"
      ],
      "execution_count": null,
      "outputs": []
    },
    {
      "cell_type": "code",
      "metadata": {
        "id": "rWmI_BrXoDo2"
      },
      "source": [
        "#Setting up the data for plotting\n",
        "Politicians = ['Joe Biden', 'Donald Trump']\n",
        "lis_pos = [positive_percentage1, positive_percentage2]\n",
        "lis_neg = [negative_percentage1, negative_percentage2]"
      ],
      "execution_count": null,
      "outputs": []
    },
    {
      "cell_type": "code",
      "metadata": {
        "id": "80aoYcI_fcRn"
      },
      "source": [
        "#Importing matplotlib library\n",
        "import matplotlib.pyplot as plt"
      ],
      "execution_count": 3,
      "outputs": []
    },
    {
      "cell_type": "code",
      "metadata": {
        "colab": {
          "base_uri": "https://localhost:8080/",
          "height": 281
        },
        "id": "lStbw-9ar-Tg",
        "outputId": "b0241784-ddcf-4987-d182-8a7f54d9883a"
      },
      "source": [
        "#Plotting the bar graph using Matplotlib for Trump vs Biden\n",
        "plt.bar(x=Politicians,height=lis_pos,label=\"Positive\")\n",
        "plt.bar(x=Politicians,height=lis_neg,label=\"Negative\")\n",
        "plt.legend()\n",
        "plt.title(\"US ELECTION Trump vs Biden\")\n",
        "plt.show()"
      ],
      "execution_count": null,
      "outputs": [
        {
          "output_type": "display_data",
          "data": {
            "image/png": "[encoded data removed]",
            "text/plain": [
              "<Figure size 432x288 with 1 Axes>"
            ]
          },
          "metadata": {
            "tags": [],
            "needs_background": "light"
          }
        }
      ]
    }
  ]
}